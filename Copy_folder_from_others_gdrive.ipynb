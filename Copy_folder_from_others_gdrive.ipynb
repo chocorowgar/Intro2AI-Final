{
  "nbformat": 4,
  "nbformat_minor": 0,
  "metadata": {
    "colab": {
      "provenance": []
    },
    "kernelspec": {
      "name": "python3",
      "display_name": "Python 3"
    },
    "language_info": {
      "name": "python"
    }
  },
  "cells": [
    {
      "cell_type": "markdown",
      "source": [
        "# Mount your google drive"
      ],
      "metadata": {
        "id": "se8RaGw2cBhx"
      }
    },
    {
      "cell_type": "code",
      "source": [
        "from google.colab import drive\n",
        "drive.mount('/content/drive')"
      ],
      "metadata": {
        "id": "bFFel5ABcODS"
      },
      "execution_count": null,
      "outputs": []
    },
    {
      "cell_type": "markdown",
      "source": [
        "# Install the specific version of 'httplib2'\n",
        "there is an issue if we don't specify the version, this has been solved [here](https://stackoverflow.com/questions/60533230/pydrive-redirectmissinglocation-redirected-but-the-response-is-missing-a-locat)"
      ],
      "metadata": {
        "id": "V4_XuAn9mQ1C"
      }
    },
    {
      "cell_type": "code",
      "source": [
        "# we need to restart the session in the first time\n",
        "!pip install httplib2==0.15.0"
      ],
      "metadata": {
        "id": "9TWi-fMRmPBM"
      },
      "execution_count": null,
      "outputs": []
    },
    {
      "cell_type": "markdown",
      "source": [
        "# Install the 'pydrive' library"
      ],
      "metadata": {
        "id": "XdV8-bTyc13T"
      }
    },
    {
      "cell_type": "code",
      "source": [
        "!pip install -U -q PyDrive\n",
        "# simplifies the process of interacting with Google Drive API\n"
      ],
      "metadata": {
        "id": "LRxBm2B4c80K"
      },
      "execution_count": null,
      "outputs": []
    },
    {
      "cell_type": "markdown",
      "source": [
        "# Authenticate and Authorize PyDrive"
      ],
      "metadata": {
        "id": "rp7WXYmHdA2R"
      }
    },
    {
      "cell_type": "code",
      "source": [
        "from pydrive.auth import GoogleAuth\n",
        "from pydrive.drive import GoogleDrive\n",
        "from google.colab import auth\n",
        "from oauth2client.client import GoogleCredentials\n",
        "\n",
        "# Authenticate and create the PyDrive client\n",
        "auth.authenticate_user()\n",
        "gauth = GoogleAuth()\n",
        "gauth.credentials = GoogleCredentials.get_application_default()\n",
        "drive = GoogleDrive(gauth)"
      ],
      "metadata": {
        "id": "1GypLSy3dFAH"
      },
      "execution_count": null,
      "outputs": []
    },
    {
      "cell_type": "markdown",
      "source": [
        "# Function to copy files from source folder to destination folder\n",
        "copy all the files in the source folder (not including the source folder itself) into the destination folder"
      ],
      "metadata": {
        "id": "luIytHKcdRZo"
      }
    },
    {
      "cell_type": "code",
      "source": [
        "def copy_folder(source_folder_id, destination_folder_id):\n",
        "    file_list = drive.ListFile({'q': f\"'{source_folder_id}' in parents and trashed=false\"}).GetList()\n",
        "    for file in file_list:\n",
        "        try:\n",
        "            if file['mimeType'] == 'application/vnd.google-apps.folder':\n",
        "                # Create a new folder in the destination folder\n",
        "                new_folder = drive.CreateFile({\n",
        "                    'title': file['title'],\n",
        "                    'mimeType': 'application/vnd.google-apps.folder',\n",
        "                    'parents': [{'id': destination_folder_id}]\n",
        "                })\n",
        "                new_folder.Upload()\n",
        "                print(f'Folder \"{file[\"title\"]}\" created.')\n",
        "                # Recursively copy the contents of the folder\n",
        "                copy_folder(file['id'], new_folder['id'])\n",
        "            else:\n",
        "                # Copy file to the destination folder\n",
        "                new_file = drive.CreateFile({\n",
        "                    'title': file['title'],\n",
        "                    'parents': [{'id': destination_folder_id}]\n",
        "                })\n",
        "                file.GetContentFile('temp_file')\n",
        "                new_file.SetContentFile('temp_file')\n",
        "                new_file.Upload()\n",
        "                print(f'File \"{file[\"title\"]}\" copied.')\n",
        "        except Exception as e:\n",
        "            print(f'Error copying file \"{file[\"title\"]}\": {e}')"
      ],
      "metadata": {
        "id": "hdh_ItRadSpy"
      },
      "execution_count": null,
      "outputs": []
    },
    {
      "cell_type": "markdown",
      "source": [
        "# Function to move specific folder into trash can if exist"
      ],
      "metadata": {
        "id": "lPugyBnW5r0X"
      }
    },
    {
      "cell_type": "code",
      "source": [
        "# Function to check if a folder exists and move it to the trash if found\n",
        "def trash_folder_if_exists(folder_name):\n",
        "    # Search for the folder in the root directory\n",
        "    query = f\"title = '{folder_name}' and mimeType = 'application/vnd.google-apps.folder' and 'root' in parents and trashed = false\"\n",
        "    folder_list = drive.ListFile({'q': query}).GetList()\n",
        "\n",
        "    if folder_list:\n",
        "        # Folder found, move it to the trash\n",
        "        for folder in folder_list:\n",
        "            print(f'Folder \"{folder[\"title\"]}\" found with ID: {folder[\"id\"]}. Moving to trash...')\n",
        "            folder.Trash()\n",
        "        print(f'Folder \"{folder_name}\" moved to trash.')\n",
        "    else:\n",
        "        print(f'Folder \"{folder_name}\" does not exist.')"
      ],
      "metadata": {
        "id": "IFY39IZf5mio"
      },
      "execution_count": null,
      "outputs": []
    },
    {
      "cell_type": "markdown",
      "source": [
        "# modify 'source_folder_id'"
      ],
      "metadata": {
        "id": "A-HhCjoH5yG7"
      }
    },
    {
      "cell_type": "code",
      "source": [
        "# Retrieve the source folder metadata\n",
        "source_folder_id = '11iW9lRNIN7G4Unwsz48RIzTxAUmnGyvW'  # Replace with the actual source folder ID\n",
        "source_folder = drive.CreateFile({'id': source_folder_id})\n",
        "source_folder.FetchMetadata(fields='title')\n",
        "source_folder_title = source_folder['title']"
      ],
      "metadata": {
        "id": "Clmc5aRU57xf"
      },
      "execution_count": null,
      "outputs": []
    },
    {
      "cell_type": "markdown",
      "source": [
        "# check if the source_folder_title has already exists in your Google Drive\n",
        "move the folder to the trash can if it exists"
      ],
      "metadata": {
        "id": "jrh_G5xh6D2J"
      }
    },
    {
      "cell_type": "code",
      "source": [
        "trash_folder_if_exists(source_folder_title)"
      ],
      "metadata": {
        "id": "4KgihVFP6Luw"
      },
      "execution_count": null,
      "outputs": []
    },
    {
      "cell_type": "markdown",
      "source": [
        "# begin the copy\n",
        "this automatically create a new folder in your gdrive home, with the same name as the source_folder, and then copy all the folders and the files from the source_folder into the created folder in your gdrive home\n",
        "\n",
        "requirements:\n",
        "1. get a shareable link\n",
        "2. The folder ID is a unique identifier in the shareable link. For example, in the link https://drive.google.com/drive/folders/1ABCDEFGH12345, the folder ID is 1ABCDEFGH12345."
      ],
      "metadata": {
        "id": "5SmTlJW6dVqw"
      }
    },
    {
      "cell_type": "code",
      "source": [
        "# Create a new folder in your Google Drive with the same name as the source folder and get its ID\n",
        "new_folder = drive.CreateFile({'title': source_folder_title, 'mimeType': 'application/vnd.google-apps.folder'})\n",
        "new_folder.Upload()\n",
        "print(f'Folder \"{new_folder[\"title\"]}\" created.')\n",
        "destination_folder_id = new_folder['id']\n",
        "\n",
        "# Copy the contents of the source folder to the new folder\n",
        "copy_folder(source_folder_id, destination_folder_id)"
      ],
      "metadata": {
        "id": "kjBAuUqBddRD"
      },
      "execution_count": null,
      "outputs": []
    }
  ]
}